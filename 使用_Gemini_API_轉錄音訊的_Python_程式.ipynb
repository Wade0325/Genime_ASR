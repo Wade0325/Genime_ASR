{
  "cells": [
    {
      "cell_type": "markdown",
      "metadata": {
        "id": "view-in-github",
        "colab_type": "text"
      },
      "source": [
        "<a href=\"https://colab.research.google.com/github/Wade0325/Genime_ASR/blob/main/%E4%BD%BF%E7%94%A8_Gemini_API_%E8%BD%89%E9%8C%84%E9%9F%B3%E8%A8%8A%E7%9A%84_Python_%E7%A8%8B%E5%BC%8F.ipynb\" target=\"_parent\"><img src=\"https://colab.research.google.com/assets/colab-badge.svg\" alt=\"Open In Colab\"/></a>"
      ]
    },
    {
      "cell_type": "code",
      "source": [
        "# Step1. 安裝必要套件\n",
        "!pip install -q google-generativeai"
      ],
      "metadata": {
        "id": "hKA6nFZ0KDIv"
      },
      "execution_count": null,
      "outputs": []
    },
    {
      "cell_type": "code",
      "source": [
        "# Step2. 匯入與設定\n",
        "import google.generativeai as genai\n",
        "from google.colab import userdata\n",
        "from google.colab import drive\n",
        "import os\n",
        "import sys\n",
        "\n",
        "# 從 Colab Secrets 取得 API 金鑰\n",
        "try:\n",
        "    GOOGLE_API_KEY = userdata.get('GOOGLE_API_KEY')\n",
        "    genai.configure(api_key=GOOGLE_API_KEY)\n",
        "except userdata.SecretNotFoundError:\n",
        "    print(\"錯誤：請在 Colab Secrets 中設定 'GOOGLE_API_KEY'\")\n",
        "    sys.exit(1) # 如果沒有金鑰，必須停止\n",
        "except Exception as e:\n",
        "    print(f\"設定 API 金鑰時發生其他錯誤: {e}\")\n",
        "    sys.exit(1)"
      ],
      "metadata": {
        "id": "2iWpSuGyKFJ3"
      },
      "execution_count": null,
      "outputs": []
    },
    {
      "cell_type": "code",
      "source": [
        "# Step3. 掛載 goole drive\n",
        "from google.colab import drive\n",
        "drive.flush_and_unmount()\n",
        "drive.mount('/content/drive')"
      ],
      "metadata": {
        "colab": {
          "base_uri": "https://localhost:8080/"
        },
        "id": "IdvcQ2tuLdt3",
        "outputId": "ada75e84-32a3-4746-8915-f9cb62759553"
      },
      "execution_count": null,
      "outputs": [
        {
          "output_type": "stream",
          "name": "stdout",
          "text": [
            "Drive not mounted, so nothing to flush and unmount.\n",
            "Mounted at /content/drive\n"
          ]
        }
      ]
    },
    {
      "cell_type": "code",
      "source": [
        "if __name__ == \"__main__\":\n",
        "    drive_file_path = input(\"請輸入音訊檔案在 Google Drive 中的完整路徑：\")\n",
        "\n",
        "    # 檢查檔案是否存在\n",
        "    if not os.path.exists(drive_file_path):\n",
        "        print(f\"錯誤：在 Google Drive 中找不到檔案 '{drive_file_path}'\")\n",
        "        print(\"請確認路徑是否正確，且包含 '/content/drive/' 前綴。\")\n",
        "    else:\n",
        "        # 執行轉錄 (直接使用 Drive 路徑)\n",
        "        try:\n",
        "            print(f\"\\n正在讀取檔案 '{drive_file_path}' 並進行轉錄...\")\n",
        "            # 上傳檔案至 Gemini API\n",
        "            audio_file_api = genai.upload_file(drive_file_path)\n",
        "\n",
        "            # 選擇模型\n",
        "            model = genai.GenerativeModel(\"gemini-2.5-pro-exp-03-25\")\n",
        "\n",
        "            # 呼叫 API\n",
        "            prompt = \"請將這個音訊檔案轉錄成文字，請使用LRC格式輸入，[mm:ss.xx]其中mm為分鐘數、ss為秒數、xx為百分之一秒。\"\n",
        "            response = model.generate_content([prompt, audio_file_api])\n",
        "\n",
        "            # 印出使用 token數\n",
        "            print(response.usage_metadata)\n",
        "\n",
        "            # 顯示結果\n",
        "            print(\"\\n--- 轉錄結果 ---\")\n",
        "            print(response.text)\n",
        "\n",
        "        except Exception as e:\n",
        "            # 顯示轉錄過程中的錯誤\n",
        "            print(f\"\\n轉錄過程中發生錯誤：{e}\")\n",
        "    print(\"\\n程式執行完畢。\")"
      ],
      "metadata": {
        "id": "CaqI-kACKLtS",
        "colab": {
          "base_uri": "https://localhost:8080/",
          "height": 267
        },
        "outputId": "0ab5bd6f-75aa-42ed-ca2e-befaf0fd0c92"
      },
      "execution_count": null,
      "outputs": [
        {
          "output_type": "stream",
          "name": "stdout",
          "text": [
            "請輸入音訊檔案在 Google Drive 中的完整路徑：/content/drive/MyDrive/音檔/未命名資料夾/2.1回目の寝取られ報告_SEなし.wav\n",
            "\n",
            "正在讀取檔案 '/content/drive/MyDrive/音檔/未命名資料夾/2.1回目の寝取られ報告_SEなし.wav' 並進行轉錄...\n",
            "prompt_token_count: 63918\n",
            "total_token_count: 63918\n",
            "\n",
            "\n",
            "--- 轉錄結果 ---\n",
            "\n",
            "轉錄過程中發生錯誤：Invalid operation: The `response.parts` quick accessor requires a single candidate, but but `response.candidates` is empty.\n",
            "This appears to be caused by a blocked prompt, see `response.prompt_feedback`: block_reason: OTHER\n",
            "\n",
            "\n",
            "程式執行完畢。\n"
          ]
        }
      ]
    }
  ],
  "metadata": {
    "colab": {
      "provenance": [],
      "include_colab_link": true
    },
    "kernelspec": {
      "display_name": "Python 3",
      "name": "python3"
    }
  },
  "nbformat": 4,
  "nbformat_minor": 0
}